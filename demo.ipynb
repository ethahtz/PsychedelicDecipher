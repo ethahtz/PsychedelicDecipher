{
 "cells": [
  {
   "cell_type": "code",
   "execution_count": 1,
   "metadata": {},
   "outputs": [
    {
     "name": "stderr",
     "output_type": "stream",
     "text": [
      "/users/thua5/.conda/envs/llava/lib/python3.10/site-packages/tqdm/auto.py:21: TqdmWarning: IProgress not found. Please update jupyter and ipywidgets. See https://ipywidgets.readthedocs.io/en/stable/user_install.html\n",
      "  from .autonotebook import tqdm as notebook_tqdm\n"
     ]
    },
    {
     "name": "stdout",
     "output_type": "stream",
     "text": [
      "0\n"
     ]
    }
   ],
   "source": [
    "import torch\n",
    "from model import Encoder, CharTokenizer\n",
    "from trainer import train\n",
    "from data import get_datasets\n",
    "import matplotlib.pyplot as plt\n",
    "\n",
    "if torch.cuda.is_available():\n",
    "    device = torch.cuda.current_device()\n",
    "else:\n",
    "    device = 'cpu'\n",
    "\n",
    "print(device)"
   ]
  },
  {
   "cell_type": "code",
   "execution_count": 2,
   "metadata": {},
   "outputs": [
    {
     "name": "stdout",
     "output_type": "stream",
     "text": [
      "Loading preprocessed train data...\n"
     ]
    }
   ],
   "source": [
    "train_dataset, test_dataset = get_datasets()"
   ]
  },
  {
   "cell_type": "code",
   "execution_count": 3,
   "metadata": {},
   "outputs": [
    {
     "name": "stdout",
     "output_type": "stream",
     "text": [
      "model_WSIZE_1024_20240423_2022.pt\r\n",
      "model_WSIZE_1024_noise_20240425_1333.pt\r\n",
      "model_WSIZE_1024_raw_20240429_1200.pt\r\n",
      "model_WSIZE_1024_woATTN_20240502_1729.pt\r\n",
      "model_WSIZE_1024_woATTN_20240503_0031.pt\r\n",
      "model_WSIZE_1024_woCNN_20240429_1303.pt\r\n",
      "model_WSIZE_128_20240423_1651.pt\r\n",
      "model_WSIZE_128_20240423_2022.pt\r\n",
      "model_WSIZE_128_noise_20240425_1333.pt\r\n",
      "model_WSIZE_128_raw_20240429_1200.pt\r\n",
      "model_WSIZE_128_woATTN_20240503_1028.pt\r\n",
      "model_WSIZE_128_woCNN_20240429_1304.pt\r\n",
      "model_WSIZE_256_20240423_1649.pt\r\n",
      "model_WSIZE_256_20240423_2022.pt\r\n",
      "model_WSIZE_256_noise_20240425_1333.pt\r\n",
      "model_WSIZE_256_raw_20240429_1200.pt\r\n",
      "model_WSIZE_256_woATTN_20240503_0037.pt\r\n",
      "model_WSIZE_256_woCNN_20240429_1304.pt\r\n",
      "model_WSIZE_512_20240423_2022.pt\r\n",
      "model_WSIZE_512_noise_20240425_1333.pt\r\n",
      "model_WSIZE_512_raw_20240429_1200.pt\r\n",
      "model_WSIZE_512_woATTN_20240502_1728.pt\r\n",
      "model_WSIZE_512_woATTN_20240503_1103.pt\r\n",
      "model_WSIZE_512_woCNN_20240429_1303.pt\r\n",
      "model_WSIZE_64_20240423_1651.pt\r\n",
      "model_WSIZE_64_20240423_2007.pt\r\n",
      "model_WSIZE_64_20240423_2022.pt\r\n",
      "model_WSIZE_64_noise_20240425_1333.pt\r\n",
      "model_WSIZE_64_raw_20240429_1200.pt\r\n",
      "model_WSIZE_64_woATTN_20240503_1028.pt\r\n",
      "model_WSIZE_64_woCNN_20240429_1303.pt\r\n"
     ]
    }
   ],
   "source": [
    "!ls ckpts/"
   ]
  },
  {
   "cell_type": "code",
   "execution_count": 5,
   "metadata": {},
   "outputs": [
    {
     "data": {
      "text/plain": [
       "Encoder(\n",
       "  (word_embedding): Embedding(38, 256)\n",
       "  (pos_embedding): Embedding(1024, 256)\n",
       "  (blocks): ModuleList(\n",
       "    (0-3): 4 x TransformerBlock(\n",
       "      (cnn): CharCNN(\n",
       "        (c3): Conv1d(256, 256, kernel_size=(3,), stride=(1,), padding=(1,))\n",
       "        (c5): Conv1d(256, 256, kernel_size=(5,), stride=(1,), padding=(2,))\n",
       "        (c7): Conv1d(256, 256, kernel_size=(7,), stride=(1,), padding=(3,))\n",
       "        (c9): Conv1d(256, 256, kernel_size=(9,), stride=(1,), padding=(4,))\n",
       "        (c11): Conv1d(256, 256, kernel_size=(11,), stride=(1,), padding=(5,))\n",
       "        (c3sep): Conv1d(256, 256, kernel_size=(1,), stride=(1,))\n",
       "        (c5sep): Conv1d(256, 256, kernel_size=(1,), stride=(1,))\n",
       "        (c7sep): Conv1d(256, 256, kernel_size=(1,), stride=(1,))\n",
       "        (c9sep): Conv1d(256, 256, kernel_size=(1,), stride=(1,))\n",
       "        (c11sep): Conv1d(256, 256, kernel_size=(1,), stride=(1,))\n",
       "        (c3_prime): Conv1d(1280, 256, kernel_size=(3,), stride=(1,), padding=(1,))\n",
       "        (leakyrelu1): LeakyReLU(negative_slope=0.01, inplace=True)\n",
       "        (leakyrelu2): LeakyReLU(negative_slope=0.01, inplace=True)\n",
       "        (leakyrelu3): LeakyReLU(negative_slope=0.01, inplace=True)\n",
       "        (leakyrelu4): LeakyReLU(negative_slope=0.01, inplace=True)\n",
       "        (leakyrelu5): LeakyReLU(negative_slope=0.01, inplace=True)\n",
       "        (leakyrelu6): LeakyReLU(negative_slope=0.01, inplace=True)\n",
       "        (conv_layer_norm): LayerNorm((256,), eps=1e-05, elementwise_affine=True)\n",
       "      )\n",
       "      (attn): SelfAttention(\n",
       "        (attn): MultiheadAttention(\n",
       "          (out_proj): NonDynamicallyQuantizableLinear(in_features=256, out_features=256, bias=True)\n",
       "        )\n",
       "      )\n",
       "      (ln_1): LayerNorm((256,), eps=1e-05, elementwise_affine=True)\n",
       "      (dropout1): Dropout(p=0.0, inplace=False)\n",
       "      (ln_2): LayerNorm((256,), eps=1e-05, elementwise_affine=True)\n",
       "      (mlp): Sequential(\n",
       "        (0): Linear(in_features=256, out_features=1024, bias=True)\n",
       "        (1): GELU(approximate='none')\n",
       "        (2): Dropout(p=0.0, inplace=False)\n",
       "        (3): Linear(in_features=1024, out_features=256, bias=True)\n",
       "      )\n",
       "      (dropout2): Dropout(p=0.0, inplace=False)\n",
       "    )\n",
       "  )\n",
       "  (output): Linear(in_features=256, out_features=38, bias=True)\n",
       ")"
      ]
     },
     "execution_count": 5,
     "metadata": {},
     "output_type": "execute_result"
    }
   ],
   "source": [
    "my_tokenizer = CharTokenizer()\n",
    "\n",
    "WSIZE = 1024\n",
    "\n",
    "my_model = Encoder(WSIZE, 37+1, 256, num_blocks=4, n_heads=8, dropout=0.0, all_activations=True, use_cnn=True, use_attn=True) # window_size, vocab_size, embed_size\n",
    "\n",
    "my_model.load_state_dict(torch.load(\"./ckpts/model_WSIZE_1024_20240423_2022.pt\"))\n",
    "# my_model.load_state_dict(torch.load(\"./ckpts/model_WSIZE_1024_20240423_2022.pt\"))\n",
    "\n",
    "my_model.to(device)\n",
    "\n",
    "# optimizer = torch.optim.Adam(my_model.parameters(), weight_decay=0.001)\n",
    "# loss_func = torch.nn.CrossEntropyLoss()\n",
    "\n",
    "# train(my_model, train_dataset, optimizer, loss_func, my_tokenizer, batch_size=16, n_epochs=10, device=device, mask_ratio=0.0)"
   ]
  },
  {
   "cell_type": "code",
   "execution_count": 39,
   "metadata": {},
   "outputs": [],
   "source": [
    "from utils import Subst_cipher, unigram_freq_decipher, CHAR_SPACE\n",
    "from data import preprocess_str\n",
    "from model import freq_encoder\n",
    "from metrics import character_accuracy\n",
    "\n",
    "\n",
    "def logitsToStr(tokenizer, logits):\n",
    "    return ''.join(tokenizer.decode([int(i) for i in logits.argmax(-1)[0].cpu()]))\n",
    "\n",
    "\n",
    "astring = \"\"\"I wasnt sure how I was gonna do it but I knew what I had to do.  Some might ask how someone could have such a strong love for someone they barley even knew, the truth is I couldn't even answer that question if I tried.  Everyone knows the saying \"The heart wants what the heart wants\", well at that moment she was what my heart desired most and I was willing to do anything to keep her. The rest of the ride to my house was in silence, for some reason I still couldnt wrap my mind around what has happened and what was happening.  We pulled up to my houes and went upstairs to my room to talk.  \"I understand if this is to much for you to handle.\" she said with a sad worried look on her face \"What do you mean?\" I asked \"You are one of the sweetest guys i've ever met and i would hate for anything bad to happen to you because of me\" she replied tears slowly falling from her eyes. \"Nothing bad is gonna happen to me\" I said grabbing her and holding her close to comfort her.  \"I'm happy being with you and I don't want to lose you over some problems between your dad and some other men and I refuse to let you leave knowing I can't be with you.\"\n",
    "\"\"\"\n",
    "\n",
    "plain = preprocess_str(astring)[:WSIZE]"
   ]
  },
  {
   "cell_type": "code",
   "execution_count": 40,
   "metadata": {},
   "outputs": [
    {
     "name": "stdout",
     "output_type": "stream",
     "text": [
      "1024\n",
      "i wasnt sure how i was gonna do it but i knew what i had to do some might ask how someone could have such a strong love for someone they barley even knew the truth is i couldnt even answer that question if i tried everyone knows the saying the heart wants what the heart wants well at that moment she was what my heart desired most and i was willing to do anything to keep her the rest of the ride to my house was in silence for some reason i still couldnt wrap my mind around what has happened and what was happening we pulled up to my houes and went upstairs to my room to talk i understand if this is to much for you to handle she said with a sad worried look on her face what do you mean i asked you are one of the sweetest guys ive ever met and i would hate for anything bad to happen to you because of me she replied tears slowly falling from her eyes nothing bad is gonna happen to me i said grabbing her and holding her close to comfort her im happy being with you and i dont want to lose you over some problems betw\n"
     ]
    }
   ],
   "source": [
    "print(plain.__len__())\n",
    "print(plain)"
   ]
  },
  {
   "cell_type": "code",
   "execution_count": 41,
   "metadata": {},
   "outputs": [
    {
     "data": {
      "text/plain": [
       "'c h7uni u0vd geh c h7u 8enn7 le ci 40i c andh hg7i c g7l ie le ue1d 1c8gi 7ua geh ue1dend ke06l g7fd u0kg 7 uiven8 6efd 3ev ue1dend igdw 47v6dw dfdn andh igd iv0ig cu c ke06lni dfdn 7nuhdv ig7i y0duicen c3 c ivcdl dfdvwend anehu igd u7wcn8 igd gd7vi h7niu hg7i igd gd7vi h7niu hd66 7i ig7i 1e1dni ugd h7u hg7i 1w gd7vi lducvdl 1eui 7nl c h7u hc66cn8 ie le 7nwigcn8 ie addm gdv igd vdui e3 igd vcld ie 1w ge0ud h7u cn uc6dnkd 3ev ue1d vd7uen c uic66 ke06lni hv7m 1w 1cnl 7ve0nl hg7i g7u g7mmdndl 7nl hg7i h7u g7mmdncn8 hd m066dl 0m ie 1w ge0du 7nl hdni 0mui7cvu ie 1w vee1 ie i76a c 0nldvui7nl c3 igcu cu ie 10kg 3ev we0 ie g7nl6d ugd u7cl hcig 7 u7l hevvcdl 6eea en gdv 37kd hg7i le we0 1d7n c 7uadl we0 7vd end e3 igd uhddidui 80wu cfd dfdv 1di 7nl c he06l g7id 3ev 7nwigcn8 47l ie g7mmdn ie we0 4dk70ud e3 1d ugd vdm6cdl id7vu u6eh6w 3766cn8 3ve1 gdv dwdu neigcn8 47l cu 8enn7 g7mmdn ie 1d c u7cl 8v744cn8 gdv 7nl ge6lcn8 gdv k6eud ie ke13evi gdv c1 g7mmw 4dcn8 hcig we0 7nl c leni h7ni ie 6eud we0 efdv ue1d mve46d1u 4dih'"
      ]
     },
     "execution_count": 41,
     "metadata": {},
     "output_type": "execute_result"
    }
   ],
   "source": [
    "ciphertext = Subst_cipher().encrypt(plain)\n",
    "''.join(ciphertext)"
   ]
  },
  {
   "cell_type": "code",
   "execution_count": 42,
   "metadata": {},
   "outputs": [],
   "source": [
    "my_model.blocks[0].use_attn = True\n",
    "my_model.blocks[1].use_attn = True\n",
    "my_model.blocks[2].use_attn = True\n",
    "my_model.blocks[3].use_attn = True"
   ]
  },
  {
   "cell_type": "code",
   "execution_count": 43,
   "metadata": {},
   "outputs": [],
   "source": [
    "ciphertext_batch = torch.tensor([freq_encoder(my_tokenizer.encode(ciphertext))], dtype=torch.long).to(device)\n",
    "# ciphertext_batch = torch.tensor([my_tokenizer.encode(ciphertext)], dtype=torch.long).to(device)\n",
    "logits, activations = my_model(ciphertext_batch)"
   ]
  },
  {
   "cell_type": "code",
   "execution_count": 44,
   "metadata": {},
   "outputs": [
    {
     "data": {
      "text/plain": [
       "'i wasnt sure how i was gonna do it but i knew what i had to do some might ask how someone vould have such a strong love for someone they barley even knew the truth is i vouldnt even answer that question if i tried everyone knows the saying the heart wants what the heart wants well at that moment she was what my heart desired most and i was willing to do anything to keep her the rest of the ride to my house was in silenve for some reason i still vouldnt wrap my mind around what has happened and what was happening we pulled up to my houes and went upstairs to my room to talk i understand if this is to much for you to handle she said with a sad worried look on her fave what do you mean i asked you are one of the sweetest guys ive ever met and i would hate for anything wad to happen to you because of me she replied tears slowly falling from her eyes nothing wad is gonna happen to me i said grabbing her and holding her close to comfort her im happy being with you and i dont want to lose you over some proplems betw'"
      ]
     },
     "execution_count": 44,
     "metadata": {},
     "output_type": "execute_result"
    }
   ],
   "source": [
    "plain_pred = logitsToStr(my_tokenizer, logits)\n",
    "plain_pred"
   ]
  },
  {
   "cell_type": "code",
   "execution_count": 45,
   "metadata": {},
   "outputs": [
    {
     "data": {
      "text/plain": [
       "'i wasnt sure how i was gonna do it but i knew what i had to do some might ask how someone could have such a strong love for someone they barley even knew the truth is i couldnt even answer that question if i tried everyone knows the saying the heart wants what the heart wants well at that moment she was what my heart desired most and i was willing to do anything to keep her the rest of the ride to my house was in silence for some reason i still couldnt wrap my mind around what has happened and what was happening we pulled up to my houes and went upstairs to my room to talk i understand if this is to much for you to handle she said with a sad worried look on her face what do you mean i asked you are one of the sweetest guys ive ever met and i would hate for anything bad to happen to you because of me she replied tears slowly falling from her eyes nothing bad is gonna happen to me i said grabbing her and holding her close to comfort her im happy being with you and i dont want to lose you over some problems betw'"
      ]
     },
     "execution_count": 45,
     "metadata": {},
     "output_type": "execute_result"
    }
   ],
   "source": [
    "plain"
   ]
  },
  {
   "cell_type": "code",
   "execution_count": 46,
   "metadata": {},
   "outputs": [
    {
     "data": {
      "text/plain": [
       "0.9921875"
      ]
     },
     "execution_count": 46,
     "metadata": {},
     "output_type": "execute_result"
    }
   ],
   "source": [
    "character_accuracy(plain, plain_pred)"
   ]
  },
  {
   "cell_type": "code",
   "execution_count": 160,
   "metadata": {},
   "outputs": [
    {
     "data": {
      "text/plain": [
       "218"
      ]
     },
     "execution_count": 160,
     "metadata": {},
     "output_type": "execute_result"
    }
   ],
   "source": [
    "plain_pred.find(\"capping\")"
   ]
  },
  {
   "cell_type": "code",
   "execution_count": 47,
   "metadata": {},
   "outputs": [],
   "source": [
    "import difflib\n",
    "\n",
    "def char_level_html_diff(text1, text2):\n",
    "    assert len(text1) == len(text2), \"Strings must be of the same length\"\n",
    "\n",
    "    result = []\n",
    "    for char1, char2 in zip(text1, text2):\n",
    "        if char1 == char2:\n",
    "            result.append(f\"<span>{char1}</span>\")\n",
    "        else:\n",
    "            result.append(f\"<span style='background-color: #EF9A9A;'>{char2}</span>\")\n",
    "    return \"\".join(result)\n",
    "\n",
    "diff_html = char_level_html_diff(plain, plain_pred)\n",
    "with open('diff.html', 'w') as f:\n",
    "    f.write(diff_html)"
   ]
  },
  {
   "cell_type": "code",
   "execution_count": 115,
   "metadata": {},
   "outputs": [
    {
     "data": {
      "text/plain": [
       "'oerd lastioahrd hamleos hrn lrve r dit ip niase tlasniase hrn hife poif tle nrtuord cegorcrtain ip lastioahrd cihufents lufrn fastr0es cuoang r frnurd tornshoamtain moihess io fassmeddec yiocs bw tle rutlio rs an tle jicarhx93 hamleo niase hrn rdsi hife poif rutifrtahrddw tornshoabang lastioahrd hamleos usang imtahrd hlrorhteo oehignatain iho tehlna8ues at as tlus houhard ti lrve r oibust cehamleofent ficed tlrt hrn stadd horh0 hamleos cesmate tle niase lrueo et rd test tleao moimisec fetlic in niasw hamleos hoertec bw orncifdw hiooumtang digkn ip tle hamleote2t hlrorhteos liyeveo rutifrtah tornshoamtain ip lastioahrd cihufents as veow hlrddengang rnc hrn antoicuhe fioe twmes ip niase anhducang tle rccatain rnc cedetain ip sife hlrorhteos cuoang hlrorhteo segfentrtain ye test iuo ficed in tloee twmes ip orncif niase anseotain cedetain rnc substatutain ye e2meoafent yatl cappeoent niase meohentrges pio hamleos ip dengtl k15 trbde 1 ye oemiot tle oesudts ip toranang rnc testang in hamleos yatl indw substatutain'"
      ]
     },
     "execution_count": 115,
     "metadata": {},
     "output_type": "execute_result"
    }
   ],
   "source": [
    "from utils import unigram_freq_decipher\n",
    "\n",
    "unigram_freq_decipher(ciphertext)"
   ]
  },
  {
   "cell_type": "code",
   "execution_count": 172,
   "metadata": {},
   "outputs": [
    {
     "data": {
      "text/plain": [
       "0.18359375"
      ]
     },
     "execution_count": 172,
     "metadata": {},
     "output_type": "execute_result"
    }
   ],
   "source": [
    "character_accuracy(plain, unigram_freq_decipher(ciphertext))"
   ]
  },
  {
   "cell_type": "code",
   "execution_count": 173,
   "metadata": {},
   "outputs": [
    {
     "data": {
      "text/plain": [
       "torch.Size([1, 512, 256])"
      ]
     },
     "execution_count": 173,
     "metadata": {},
     "output_type": "execute_result"
    }
   ],
   "source": [
    "activations[0].shape"
   ]
  },
  {
   "cell_type": "code",
   "execution_count": 146,
   "metadata": {},
   "outputs": [
    {
     "data": {
      "text/plain": [
       "'tttttttttttttttttttttttttttttttttttttttttttttttttttttttttttttttttttttttttttttttttttttttttttttttttttttttttttttttttttttttttttttttttttttttttttttttttttttttttttttttttttttttttttttttttttttttttttttttttttttttttttttttttttttttttttttttttttttttttttttttttttttttttttttttttttttttttttttttttttttttttttttttttttttttttttttttttttttttttttttttttttttttttttttttttttttttttttttttttttttttttttttttttttttttttttttttttttttttttttttttttttttttttttttttttttttttttttttttttttttttttttttttttttttttttttttttttttttttttttttttttttttttttttttttttttttttttttttttttttttttttttttttttttttttttttttttttttttttttttttttttttttttttttttttttttttttttttttttttttttttttttttttttttttttttttttttttttttttttttttttttttttttttttttttttttttttttttttttttttttttttttttttttttttttttttttttttttttttttttttttttttttttttttttttttttttttttttttttttttttttttttttttttttttttttttttttttttttttttttttttttttttttttttttttttttttttttttttttttttttttttttttttttttttttttttttttttttttttttttttttttttttttttttttttttttttttttttttttttttttttttttttttttttttttttttttttttttttttttttttttttttttttttttttttttttttttttttttttttttttttttttttttttttttttttttttttt'"
      ]
     },
     "execution_count": 146,
     "metadata": {},
     "output_type": "execute_result"
    }
   ],
   "source": [
    "logitsToStr(my_tokenizer, my_model.output(activations[0].to(device)))"
   ]
  },
  {
   "cell_type": "code",
   "execution_count": 162,
   "metadata": {},
   "outputs": [
    {
     "data": {
      "image/png": "[encoded data removed]",
      "text/plain": [
       "<Figure size 1600x1200 with 1 Axes>"
      ]
     },
     "metadata": {},
     "output_type": "display_data"
    }
   ],
   "source": [
    "POSIDX=217\n",
    "\n",
    "plt.figure(figsize=(8,6), dpi=200)\n",
    "\n",
    "for i in range(4,-1,-1):\n",
    "    plt.bar(CHAR_SPACE, torch.softmax(my_model.output(activations[i].to(device)).detach().cpu()[0][POSIDX][:len(CHAR_SPACE)], -1), label=f\"Layer {i}\", alpha=0.4)\n",
    "\n",
    "plt.legend()\n",
    "plt.show()"
   ]
  },
  {
   "cell_type": "code",
   "execution_count": 226,
   "metadata": {},
   "outputs": [
    {
     "data": {
      "image/png": "[encoded data removed]",
      "text/plain": [
       "<Figure size 1600x600 with 1 Axes>"
      ]
     },
     "metadata": {
      "needs_background": "light"
     },
     "output_type": "display_data"
    }
   ],
   "source": [
    "POSIDX=10\n",
    "\n",
    "plt.figure(figsize=(8,3), dpi=200)\n",
    "\n",
    "for i in range(4,-1,-1):\n",
    "    plt.bar(CHAR_SPACE, torch.softmax(my_model.output(activations[i].to(device)).detach().cpu()[0][POSIDX][:len(CHAR_SPACE)], -1), label=f\"Layer {i}\", alpha=0.4)\n",
    "\n",
    "plt.legend()\n",
    "plt.show()"
   ]
  },
  {
   "cell_type": "code",
   "execution_count": 13,
   "metadata": {},
   "outputs": [],
   "source": [
    "from datasets import load_dataset\n",
    "\n",
    "dataset = load_dataset(\"brunokreiner/genius-lyrics\")"
   ]
  },
  {
   "cell_type": "code",
   "execution_count": 14,
   "metadata": {},
   "outputs": [],
   "source": [
    "import numpy as np"
   ]
  },
  {
   "cell_type": "code",
   "execution_count": 15,
   "metadata": {},
   "outputs": [
    {
     "name": "stdout",
     "output_type": "stream",
     "text": [
      "DatasetDict({\n",
      "    train: Dataset({\n",
      "        features: ['Unnamed: 0', 'id', 'lyrics', 'is_english', 'genres_list', 'popularity', 'release_date', 'artist_id', 'artist_name', 'artist_popularity', 'artist_followers', 'artist_picture_url'],\n",
      "        num_rows: 480855\n",
      "    })\n",
      "})\n"
     ]
    }
   ],
   "source": [
    "print(dataset)"
   ]
  },
  {
   "cell_type": "code",
   "execution_count": 16,
   "metadata": {},
   "outputs": [
    {
     "name": "stdout",
     "output_type": "stream",
     "text": [
      "200\n"
     ]
    }
   ],
   "source": [
    "length = len(dataset['train']['lyrics'])\n",
    "data_l = dataset['train']['lyrics']\n",
    "random_numbers = np.random.randint(0, length + 1, 200)\n",
    "lyrics_list = []\n",
    "for i in range(200):\n",
    "    idx = random_numbers[i]\n",
    "    if dataset['train']['is_english']:\n",
    "        lyrics_list.append(data_l[idx])\n",
    "print(len(lyrics_list))"
   ]
  },
  {
   "cell_type": "code",
   "execution_count": 17,
   "metadata": {},
   "outputs": [
    {
     "name": "stdout",
     "output_type": "stream",
     "text": [
      "0.8010245619902332\n"
     ]
    }
   ],
   "source": [
    "WSIZE = 1024\n",
    "accs = []\n",
    "for i in range(200):\n",
    "    astring = lyrics_list[i]\n",
    "    plain = preprocess_str(astring)[:WSIZE]\n",
    "    ciphertext = Subst_cipher().encrypt(plain)\n",
    "    ''.join(ciphertext)\n",
    "    ciphertext_batch = torch.tensor([freq_encoder(my_tokenizer.encode(ciphertext))], dtype=torch.long).to(device)\n",
    "    # ciphertext_batch = torch.tensor([my_tokenizer.encode(ciphertext)], dtype=torch.long).to(device)\n",
    "    logits, activations = my_model(ciphertext_batch)\n",
    "    plain_pred = logitsToStr(my_tokenizer, logits)\n",
    "    acc = character_accuracy(plain, plain_pred)\n",
    "    accs.append(acc)\n",
    "print(np.mean(accs))"
   ]
  },
  {
   "cell_type": "code",
   "execution_count": 21,
   "metadata": {},
   "outputs": [
    {
     "name": "stderr",
     "output_type": "stream",
     "text": [
      "Repo card metadata block was not found. Setting CardData to empty.\n"
     ]
    },
    {
     "name": "stdout",
     "output_type": "stream",
     "text": [
      "DatasetDict({\n",
      "    train: Dataset({\n",
      "        features: ['author', 'content', 'poem name', 'age', 'type'],\n",
      "        num_rows: 573\n",
      "    })\n",
      "})\n"
     ]
    }
   ],
   "source": [
    "dataset2 = load_dataset(\"merve/poetry\")\n",
    "print(dataset2)"
   ]
  },
  {
   "cell_type": "code",
   "execution_count": 22,
   "metadata": {},
   "outputs": [
    {
     "name": "stdout",
     "output_type": "stream",
     "text": [
      "200\n",
      "Pray why are you so bare, so bare,\r\n",
      "   Oh, bough of the old oak-tree;\r\n",
      "And why, when I go through the shade you throw,\r\n",
      "   Runs a shudder over me?\r\n",
      "\r\n",
      "My leaves were green as the best, I trow,\r\n",
      "   And sap ran free in my veins,\r\n",
      "But I say in the moonlight dim and weird\r\n",
      "   A guiltless victim's pains.\r\n",
      "\r\n",
      "I bent me down to hear his sigh;\r\n",
      "   I shook with his gurgling moan,\r\n",
      "And I trembled sore when they rode away,\r\n",
      "   And left him here alone.\r\n",
      "\r\n",
      "They'd charged him with the old, old crime,\r\n",
      "   And set him fast in jail:\r\n",
      "Oh, why does the dog howl all night long,\r\n",
      "   And why does the night wind wail?\r\n",
      "\r\n",
      "He prayed his prayer and he swore his oath,\r\n",
      "   And he raised his hand to the sky;\r\n",
      "But the beat of hoofs smote on his ear,\r\n",
      "   And the steady tread drew nigh.\r\n",
      "\r\n",
      "Who is it rides by night, by night,\r\n",
      "   Over the moonlit road?\r\n",
      "And what is the spur that keeps the pace,\r\n",
      "   What is the galling goad?\r\n",
      "\r\n",
      "And now they beat at the prison door,\r\n",
      "   \"Ho, keeper, do not stay!\r\n",
      "We are friends of him whom you hold within,\r\n",
      "   And we fain would take him away\r\n",
      "\r\n",
      "\"From those who ride fast on our heels\r\n",
      "   With mind to do him wrong;\r\n",
      "They have no care for his innocence,\r\n",
      "   And the rope they bear is long.\"\r\n",
      "\r\n",
      "They have fooled the jailer with lying words,\r\n",
      "   They have fooled the man with lies;\r\n",
      "The bolts unbar, the locks are drawn,\r\n",
      "   And the great door open flies.\r\n",
      "\r\n",
      "Now they have taken him from the jail,\r\n",
      "   And hard and fast they ride,\r\n",
      "And the leader laughs low down in his throat,\r\n",
      "   As they halt my trunk beside.\r\n",
      "\r\n",
      "Oh, the judge, he wore a mask of black,\r\n",
      "   And the doctor one of white,\r\n",
      "And the minister, with his oldest son,\r\n",
      "   Was curiously bedight.\r\n",
      "\r\n",
      "Oh, foolish man, why weep you now?\r\n",
      "   'Tis but a little space,\r\n",
      "And the time will come when these shall dread\r\n",
      "   The mem'ry of your face.\r\n",
      "\r\n",
      "I feel the rope against my bark,\r\n",
      "   And the weight of him in my grain,\r\n",
      "I feel in the throe of his final woe\r\n",
      "   The touch of my own last pain.\r\n",
      "\r\n",
      "And never more shall leaves come forth\r\n",
      "   On the bough that bears the ban;\r\n",
      "I am burned with dread, I am dried and dead,\r\n",
      "   From the curse of a guiltless man.\r\n",
      "\r\n",
      "And ever the judge rides by, rides by,\r\n",
      "   And goes to hunt the deer,\r\n",
      "And ever another rides his soul\r\n",
      "   In the guise of a mortal fear.\r\n",
      "\r\n",
      "And ever the man he rides me hard,\r\n",
      "   And never a night stays he;\r\n",
      "For I feel his curse as a haunted bough,\r\n",
      "   On the trunk of a haunted tree.\n"
     ]
    }
   ],
   "source": [
    "length = len(dataset2['train']['content'])\n",
    "data_l = dataset2['train']['content']\n",
    "random_numbers = np.random.randint(0, length + 1, 200)\n",
    "poem_list = []\n",
    "for i in range(200):\n",
    "    idx = random_numbers[i]\n",
    "    poem_list.append(data_l[idx])\n",
    "print(len(poem_list))\n",
    "print(poem_list[0])"
   ]
  },
  {
   "cell_type": "code",
   "execution_count": 26,
   "metadata": {},
   "outputs": [
    {
     "name": "stdout",
     "output_type": "stream",
     "text": [
      "0.840285966931138\n"
     ]
    }
   ],
   "source": [
    "WSIZE = 1024\n",
    "accs = []\n",
    "for i in range(200):\n",
    "    astring = poem_list[i]\n",
    "    plain = preprocess_str(astring)[:WSIZE]\n",
    "    ciphertext = Subst_cipher().encrypt(plain)\n",
    "    ''.join(ciphertext)\n",
    "    ciphertext_batch = torch.tensor([freq_encoder(my_tokenizer.encode(ciphertext))], dtype=torch.long).to(device)\n",
    "    # ciphertext_batch = torch.tensor([my_tokenizer.encode(ciphertext)], dtype=torch.long).to(device)\n",
    "    logits, activations = my_model(ciphertext_batch)\n",
    "    plain_pred = logitsToStr(my_tokenizer, logits)\n",
    "    acc = character_accuracy(plain, plain_pred)\n",
    "    accs.append(acc)\n",
    "print(np.mean(accs))"
   ]
  },
  {
   "cell_type": "code",
   "execution_count": 28,
   "metadata": {
    "scrolled": true
   },
   "outputs": [
    {
     "name": "stderr",
     "output_type": "stream",
     "text": [
      "Downloading data: 100%|██████████| 3.62G/3.62G [00:59<00:00, 61.4MB/s]\n",
      "Downloading data: 100%|██████████| 880M/880M [00:16<00:00, 54.3MB/s] \n",
      "Generating train split: 100%|██████████| 203037/203037 [02:05<00:00, 1621.90 examples/s]\n",
      "Generating validation split: 100%|██████████| 6436/6436 [00:03<00:00, 1615.10 examples/s]\n",
      "Generating test split: 100%|██████████| 6440/6440 [00:03<00:00, 1685.08 examples/s]\n"
     ]
    },
    {
     "name": "stdout",
     "output_type": "stream",
     "text": [
      "DatasetDict({\n",
      "    train: Dataset({\n",
      "        features: ['article', 'abstract', 'section_names'],\n",
      "        num_rows: 203037\n",
      "    })\n",
      "    validation: Dataset({\n",
      "        features: ['article', 'abstract', 'section_names'],\n",
      "        num_rows: 6436\n",
      "    })\n",
      "    test: Dataset({\n",
      "        features: ['article', 'abstract', 'section_names'],\n",
      "        num_rows: 6440\n",
      "    })\n",
      "})\n"
     ]
    }
   ],
   "source": [
    "dataset3 = load_dataset(\"scientific_papers\",'arxiv')\n",
    "print(dataset3)"
   ]
  },
  {
   "cell_type": "code",
   "execution_count": 32,
   "metadata": {},
   "outputs": [
    {
     "name": "stdout",
     "output_type": "stream",
     "text": [
      "200\n",
      " we show the existence of a stable algebraic spin liquid ( asl ) phase in a hubbard model defined on a honeycomb lattice with spin - dependent hopping that breaks time - reversal symmetry . \n",
      " the effective spin model is the kitaev model for large on - site repulsion . \n",
      " the gaplessness of the emergent majorana fermions is protected by the time - reversal invariance of this model . \n",
      " we prove that the effective spin model is time - reversal invariant in the entire mott phase , thus ensuring the stability of the asl . \n",
      " the model can be physically realized in cold atom systems , and we propose experimental signals of the asl .    \n",
      " the concept of a spin liquid as a mott phase without any local magnetic order was put forward by anderson @xcite . \n",
      " its relevance to the physics of high - temperature superconductors@xcite led to the development of a gauge theory of spin liquids @xcite , analogous to quantum electrodynamics(qed ) . \n",
      " the spinons are the counterpart of electrons in qed , and the visons , another emergent excitation , are the counterpart of the photon . \n",
      " attempts at understanding the emergence of fermionic quasiparticles in spin systems in analogy with the anyonic quasiparticles in fractional quantum hall systems have led to a general theory of quantum or topological order in spin liquids@xcite . \n",
      " experimental evidence for a spin liquid ground state has been seen , for instance , in the organic material @xmath0-(bedt - ttf)@xmath1cu@xmath1(cn)@xmath2@xcite .    \n",
      " algebraic spin liquids ( asl ) are a special class of spin liquids with gapless dirac - like spinons and spin correlations that decay as a power law . \n",
      " frustration in magnetic interactions and quantum fluctuations tend to prevent magnetic ordering . \n",
      " thus , asls have primarily been studied in frustrated spin-1/2 heisenberg antiferromagnets@xcite and have not been realized in an interacting fermion model until now . \n",
      " the asl shows power - law decay not only for spin correlations but for many other local order parameters as well . \n",
      " hence , it is intrinsically susceptible to one of them ordering and inducing a spinon gap . \n",
      " thus , any realization of this phase must be accompanied by a mechanism for ensuring its stability .    \n",
      " kitaev@xcite constructed an exactly solvable anisotropic spin-1/2 model on a honeycomb lattice that exhibits the important properties of an asl . \n",
      " it can be expressed as a model of two gapless majorana - dirac fermions ( spinons ) interacting with @xmath3 gauge fields ( visons ) . \n",
      " a remarkable feature of the model is that the magnetic flux associated with every plaquette is conserved , and as a result the visons are static . \n",
      " consequently , while multispin operators that conserve flux have algebraic correlations , those which do not , including the single spin operators , are extremely short ranged @xcite . \n",
      " tikhonov _ \n",
      " et al._@xcite showed that when a single spin operator is added to the hamitonian , the spin - spin correlations become algebraic as well . \n",
      " the class of perturbations that can induce algebraic spin - spin correlations was classified by mandal _ \n",
      " et al . _ \n",
      " @xcite , who showed that ising and heisenberg perturbations , which had been studied earlier @xcite , do not induce power - law correlations .    \n",
      " asls are thus realized in a class of perturbed kitaev models . \n",
      " the stability of the asl in the kitaev model is due to time - reversal ( tr ) symmetry : the two majorana - dirac fermions combine to form a _ \n",
      " single _ \n",
      " dirac fermion , with an energy spectrum that can not have a gap without breaking tr symmetry . \n",
      " thus , to ensure a stable asl phase , the perturbations must preserve this symmetry . \n",
      " the single spin perturbation considered by tikhonov _ \n",
      " et al . \n",
      " _ breaks tr symmetry , and hence that model is not protected against developing a spinon gap at higher orders in perturbation theory . an exactly solvable spin-3/2 model with algebraic spin correlations \n",
      " has also been constructed @xcite .    \n",
      " the asl has not yet been realized in a model of interacting fermions , though there have been speculations about the possible means of doing so@xcite . \n",
      " it has been argued@xcite that a short - ranged spin liquid emerges between the semi - metal and the nel phases in a hubbard model defined on a honeycomb lattice . \n",
      " recent works claim otherwise@xcite .    \n",
      " the above discussion suggests that a hubbard model that would be described effectively by the kitaev honeycomb spin model in the large @xmath4 limit is a good candidate for realizing an asl . \n",
      " such a model was proposed by duan _ \n",
      " et al . _  \n",
      " as a way of realizing the kitaev model@xcite in cold atom systems@xcite . \n",
      " this model , which we henceforth call the kitaev - hubbard model , has anisotropic spin - dependent hopping , which leads to the high degree of frustration in the effective spin model . \n",
      " the hamiltonian is @xmath5 where @xmath6 annihilates a fermion of spin projection @xmath7 at site @xmath8 ( the spin index is implicit in the first term ) , @xmath9 ( @xmath10 ) are the pauli matrices , @xmath11 is the number of fermions of spin @xmath12 at site @xmath8 , and @xmath13 denotes the nearest - neighbor pairs in the three hopping directions of the lattice ( see fig .  [ fig : cluster ] ) .    in the remaining part of the letter \n",
      " , we analyze this model and show that there exists a phase with a charge gap and no magnetic order . \n",
      " we compute the next to leading order ( in @xmath14 ) terms of the effective spin model in the mott phase and show that they induce algebraic spin - spin correlations . \n",
      " the effective model has an emergent time - reversal symmetry , which we analytically prove remains intact to all orders in @xmath14 . finally , we do a mean - field calculation to show that time - reversal symmetry is not spontaneously broken in the mott phase . \n",
      " thus , we demonstrate that the model supports a _ stable _ asl phase .    at @xmath15 , the model reduces to the simple spin- and tr - invariant , nearest - neighbor hubbard model@xcite . \n",
      " the term proportional to @xmath16 is a spin - dependent hopping term and breaks tr symmetry , @xmath17 spin symmetry , and the threefold spatial rotation symmetry of the @xmath15 model . \n",
      " it is , however , invariant under a spatial rotation of @xmath18 combined with a spin rotation of @xmath18 about the @xmath19 spin axis . at @xmath20 , \n",
      " the one - body part of the hamiltonian is a combination of the projection operators @xmath21 . \n",
      " thus , only those electrons that are spin - polarized in the @xmath22 direction can hop along the @xmath23 bonds . at this value of @xmath16 , the effective low - energy spin model , at half - filling and large @xmath4 , \n",
      " is the kitaev honeycomb model@xcite .    at @xmath24 and @xmath25 , the single - particle spectrum of this model shows four distinct bands , each of which has a nonzero chern number @xmath26@xcite . \n",
      " the top and bottom bands have @xmath27 , while the two middle bands , with @xmath28 , are connected at the dirac points . at @xmath29 , the top two as well as \n",
      " the bottom two bands are gapped . \n",
      " as @xmath16 is decreased , this gap shrinks and finally closes at @xmath30 . \n",
      " the existence and locations of dirac points can be experimentally measured in optical lattice systems@xcite .     \n",
      " label the different spin - dependent hopping directions ( blue solid lines ) , whereas the inter - cluster bonds are shown as dashed lines . \n",
      " , width=170 ]     ( color online ) the phase diagram of the kitaev - hubbard model at half - filling , showing the phases . \n",
      " the transition from the afi to the asl phase is discontinuous . \n",
      " the red squares correspond to the parameter values at which the spectral graphs have been plotted in fig .  \n",
      " [ fig : spectral ] . ]    at @xmath20 and in the large @xmath4 limit , the model is analytically tractable . \n",
      " we will show that , in this regime , ( a ) tr symmetry is satisfied , ( b ) the spin - spin correlation function has power - law behavior , and ( c ) the corresponding spin liquid remains gapless in the spin excitations . \n",
      " in addition , using the variational cluster approximation ( vca ) @xcite and cluster perturbation theory ( cpt ) @xcite , we have delineated a region on the @xmath31 plane where the staggered magnetization vanishes and the spectral gap is nonzero . as this region includes the @xmath32 line above a certain critical @xmath4 value , we surmise that it constitutes an asl phase .    \n",
      " cpt and vca allow us to map the spectral gap of the model onto the @xmath33 plane and to calculate the extent of the nel phase . \n",
      " vca also allows us to find out whether or not the transitions out of the nel phase are continuous . \n",
      " however , the same can not be done for the mott transitions to the spin - liquid phases for which a cluster dynamical mean - field technique would be required@xcite .    \n",
      " , y - axis ) and momentum ( @xmath34 , x - axis ) for the four sets of parameter values marked by the squares in fig .  \n",
      " [ fig : phase_diagram ] , red indicating maximum value and blue indicating minimum values . \n",
      " the spectrum is gapless only for the sm . \n",
      " @xmath35 , @xmath36 and @xmath37 represent the high symmetry points of the brillouin zone . ]    \n",
      " the phase diagram of the kitaev - hubbard model from @xmath29 to @xmath38 is summarized in fig .  \n",
      " [ fig : phase_diagram ] ( we set @xmath39 ) . at low @xmath4 value \n",
      " , there is a tr - breaking semi - metallic phase ( sm ) , characterized by gapless charged , spin-1/2 fermionic quasiparticles . \n",
      " this nonmagnetic phase exists in the region @xmath40 and @xmath41 . \n",
      " when @xmath42 and @xmath29 , a spectral gap opens up , signature of a mott transition from the sm to the asl phase , which extends to @xmath43 . between @xmath44 and @xmath41 and with steadily decreasing @xmath16 , \n",
      " the system starts off in the sm phase , then makes a transition into the asl phase and finally reenters the sm phase until @xmath45 . for @xmath46 , \n",
      " decreasing @xmath16 destabilizes the asl phase and brings about a transition to the antiferromagnetic ( nel ) phase ( afi ) which also has a spectral gap .    \n",
      " the asl phase is bounded by the afi and sm phases and is hence not connected to the possible short - ranged spin liquid at @xmath15@xcite . \n",
      " the sm and afi phases do not have quasiparticles with fractional quantum numbers or statistics . \n",
      " thus , the asl is topologically distinct from the sm and the afi , and we expect the transitions between them to be discontinuous , as illustrated for instance in fig .  \n",
      " [ fig : orderp ] .    \n",
      " spectral functions illustrating each of the three phases and computed with cpt are shown in fig .  \n",
      " [ fig : spectral ] . \n",
      " it is intriguing that the single - particle bands of opposite chern numbers remain gapped in the same range of @xmath16 as the existence of the asl . \n",
      " this seems to indicate that geometric phase effects may play an important role in this model .    \n",
      " let us now proceed to the large-@xmath4 analytic treatment of the model on the @xmath29 line . \n",
      " we study the asl spin - spin correlations by deriving an effective , large-@xmath4 spin hamiltonian of the kitaev - hubbard model at half - filling . to leading order in @xmath47 , \n",
      " this effective hamiltonian is @xmath48 \\end{aligned}\\ ] ] this is a combination of the heisenberg and kitaev models similar to the one studied earlier@xcite . \n",
      " as mentioned earlier , this hamiltonian continues to have short - ranged spin - spin correlations . \n",
      " we have calculated the next order term in the effective spin hamiltonian and have obtained @xmath49+\\sum_{\\langle\\langle ij\\rangle\\rangle_{\\alpha\\beta } } \\bigg [ \\frac{(1-t^{'2})^2}{4u^3 } { \\bf{s}}_{i}.{\\bf{s}}_{j } \\nonumber \\\\ & + \\frac{t^{'2}-t^{'4}}{2u^3}(s_{i}^\\alpha s_{j}^\\alpha + s_{i}^\\beta s_{j}^\\beta ) + 3\\frac{t^{'2}}{u^3}s_{i}^\\alpha s_{j}^\\beta \\bigg]\\end{aligned}\\ ] ] where @xmath13 denote nearest neighbors in the @xmath23 direction and @xmath50 denote next - nearest neighbors reached by first moving in the @xmath23 direction and then in the @xmath51 direction .    \n",
      " we show below that the terms in eq . \n",
      " ( [ heff4 ] ) induce algebraic spin - spin correlations . \n",
      " the effective hamiltonian @xmath52 is comprised of two - spin operators and is hence tr symmetric . using the charge - conjugation symmetry of the microscopic hamiltonian ( [ eq : ham ] ) \n",
      " , we have analytically proved that the effective spin model is tr symmetric to all orders in @xmath47 ( see supplementary material ) . \n",
      " if this emergent symmetry in the mott phase is not spontaneously broken then the spinons are forced to be gapless .    \n",
      " we now compute the spin - spin correlation , @xmath53 where @xmath54 is a site of the bravais lattice and @xmath55 is the sublattice index . \n",
      " we compute this perturbatively in the fermionic representation of the spins @xcite , in which the majorana fermion operators @xmath56 and @xmath57 are defined as follows : @xmath58 the physical subspace is defined by the constraint @xmath59 in terms of these majorana fermions , the leading order hamiltonian is @xmath60 where @xmath61 . \n",
      " this hamiltonian describes majorana fermions ( @xmath56 ) , which we refer to as spinons , propagating in the background of static @xmath3 gauge fields ( @xmath62 ) . \n",
      " the spin - spin correlation functions therefore factorize into propagators of the @xmath56 operators . since the spin operators create two units of flux on adjoining plaquettes , the majorana fermion propagators are in the background of an even number of fluxes at a few points .    \n",
      " we are interested in the asymptotic form of the leading order correction , @xmath63 ( second order ) , when @xmath64 . \n",
      " tikhonov _ \n",
      " et al . \n",
      " _ @xcite have shown that in this limit , the propagators are the same as those in the flux - free background \n",
      " . their result can be physically understood by noting that the particles hopping far way from the flux pairs will not pick up any phases from them . \n",
      " thus , we can expect the long wavelength modes to be insensitive to a few localized flux pairs .    to compute the asymptotic form or the propagators \n",
      " , we can derive the continuum theory of the low - energy modes in the flux - free background . \n",
      " the hamiltonian ( [ fermham ] ) , when @xmath65 , reduces to nearest - neighbor hopping on a honeycomb lattice just as in graphene . \n",
      " graphene has low - energy dirac quasiparticles about two points , @xmath66 and @xmath67 , in the brillouin zone . \n",
      " however , since the @xmath68 operators are hermitian @xmath69 , the excitations only exist over half the brillouin zone . \n",
      " thus , the low - energy modes constitute a single dirac quasiparticle . \n",
      " the continuum theory is derived by introducing slowly varying fields @xmath70 such that @xmath71 @xmath72 satisfies the gapless dirac equation . any mass term for \n",
      " a _ single _ dirac fermion breaks tr invariance . \n",
      " thus the gaplessness is protected by the tr invariance of the effective spin model .    \n",
      " we have calculated the dynamical spin - spin correlations in the long - wavelength limit following the methods of tikhonov _ \n",
      " et al._@xcite ( see supplemental material ) in terms of the products of the noninteracting @xmath68-fermion propagators @xmath73 @xmath74 as @xmath75 where @xmath76 , and @xmath77 is the dirac point ( @xmath78 ) . here \n",
      " , @xmath79 is the time , @xmath80 are the pauli spin matrices .    using eqs . \n",
      " ( [ spincorr ] ) and ( [ g ] ) , we find that the long - wavelength correlation function falls off as @xmath81 . \n",
      " this exponent is the same as the one computed by single - spin perturbations studied in ref .   and can be motivated by simple dimensional counting . \n",
      " this proves the existence of the asl in the kitaev - hubbard model . \n",
      " although the prefactor is extremely small for large @xmath4 ( @xmath82 ) , this is the leading behavior at long distances . \n",
      " therefore the effect of the perturbation can not be neglected for any value of @xmath4 , however large . \n",
      " indeed , we can expect the strength of these correlations to grow as @xmath4 decreases .    \n",
      " thus , at large @xmath4 , the leading order contribution to the spin susceptibility is independent of @xmath4 as in the kitaev model , whereas the next order contribution goes as @xmath83 . \n",
      " the @xmath4 dependence of the spin susceptibility will hence be of the form @xmath84 , where @xmath85 and @xmath86 are constants independent of @xmath4 . \n",
      " experimental methods for measuring the spin susceptibility in cold atom systems have recently been developed  @xcite . \n",
      " the value of @xmath83 , for the lowest values of @xmath87 that the asl exists , ranges from @xmath88 , depending on @xmath16 . \n",
      " thus , susceptibility measurements as a function of @xmath4 , with an accuracy of about @xmath89 , can provide evidence for the existence of the asl in this model .    \n",
      " the stability of the asl in this model comes from the preservation of tr symmetry . \n",
      " we have investigated the possibility of spontaneous breaking of tr symmetry and the consequent emergence of a chiral spin liquid ( csl ) with a spinon gap ( see supplemental material ) . in the fermionized version@xcite of the effective spin model , where @xmath90 , we use a mean - field theory in which the vison and the spinon sectors are decoupled . \n",
      " this mean - field theory is exact for the kitaev model , which is obtained by putting @xmath25 in @xmath91 . \n",
      " we find that the csl solutions occur only for @xmath92 and for @xmath93 and , thus , are not seen in the mott regime @xmath94 . in fig .  \n",
      " [ fig : gap ] , we plot the spinon gap as a function of @xmath4 for @xmath29 .     for @xmath25,scaledwidth=40.0% ]    in conclusion , we have shown that the kitaev - hubbard model shows a mott transition from a semi - metallic phase to an algebraic spin - liquid phase . \n",
      " the former breaks time - reversal symmetry whereas the latter preserves it . \n",
      " the asl is stabilized by tr symmetry . \n",
      " we have proved the tr invariance in the mott phase ( to all orders in @xmath14 ) , using charge - conjugation symmetry . at intermediate @xmath4 , \n",
      " the asl phase occurs for a wide range of @xmath16 , which narrows down as @xmath4 is increased . \n",
      " concrete schemes to realize this model have been proposed@xcite , and experimental methods to probe the semi - metal at low @xmath4 values@xcite and the asl at large @xmath4 values @xcite exist . \n",
      " this demonstration of the existence of the asl might help achieve a better understanding of the physics of the pseudogap phase of the underdoped high - temperature superconductors@xcite .    \n",
      " we thank g. baskaran , jean paul latyr faye , andr - marie tremblay and mukul laad for useful discussions and r. adhikari for feedback on the manuscript . \n",
      " computational resources were provided by compute canada , calcul qubec , and annapurna imsc .    35 natexlab#1#1bibnamefont # 1#1bibfnamefont # 1#1citenamefont # 1#1url # 1`#1`urlprefix[2]#2 [ 2][]#2    , * * , ( ) .    , * * , ( ) .    \n",
      " , * * , ( ) .    , * * , ( ) .    , * * , ( ) .    , , , , , * * , ( ) .    , * * , ( ) .    , * * , ( ) .    , * * , ( ) .    , * * , ( ) .    , , , * * , ( ) .    , , , * * , ( ) .    , , , , , * * , ( ) .    , , , \n",
      " * * , ( ) .    \n",
      " , , , ( ) .    , , , * * , ( ) .    , * * , ( ) .    , * * , ( ) .    \n",
      " , , , * * , ( ) .    , , , , , \n",
      " * * , ( ) .    , , \n",
      " , * * , ( ) , issn .    , , ( ) , .    , , , * \n",
      " * , ( ) .    \n",
      " , , , , * * , ( ) .    , , , , ( ) .    , , , , , * * , ( ) .    , * * , ( ) .    , , , * * , ( ) .    , , , , , , , * * , ( ) .    , , , * * , ( ) .    , * * , ( ) .    , , , * * , ( ) .    , in _ _ , edited by ( , ) , vol . of \n",
      " _ , chap .  \n",
      " , pp . .    , in _ _ , edited by ( , ) , vol \n",
      " of _ _ , chap .  .    \n",
      " , , , , , * * , ( ) . \n"
     ]
    }
   ],
   "source": [
    "length = len(dataset3['train']['abstract'])\n",
    "data_l = dataset3['train']['abstract']\n",
    "random_numbers = np.random.randint(0, length + 1, 200)\n",
    "abstract_list = []\n",
    "for i in range(200):\n",
    "    idx = random_numbers[i]\n",
    "    abstract_list.append(data_l[idx])\n",
    "print(len(abstract_list))\n",
    "print(abstract_list[0])"
   ]
  },
  {
   "cell_type": "code",
   "execution_count": 33,
   "metadata": {},
   "outputs": [
    {
     "name": "stdout",
     "output_type": "stream",
     "text": [
      "0.9263392230854254\n"
     ]
    }
   ],
   "source": [
    "WSIZE = 1024\n",
    "accs = []\n",
    "for i in range(200):\n",
    "    astring = abstract_list[i]\n",
    "    plain = preprocess_str(astring)[:WSIZE]\n",
    "    ciphertext = Subst_cipher().encrypt(plain)\n",
    "    ''.join(ciphertext)\n",
    "    ciphertext_batch = torch.tensor([freq_encoder(my_tokenizer.encode(ciphertext))], dtype=torch.long).to(device)\n",
    "    # ciphertext_batch = torch.tensor([my_tokenizer.encode(ciphertext)], dtype=torch.long).to(device)\n",
    "    logits, activations = my_model(ciphertext_batch)\n",
    "    plain_pred = logitsToStr(my_tokenizer, logits)\n",
    "    acc = character_accuracy(plain, plain_pred)\n",
    "    accs.append(acc)\n",
    "print(np.mean(accs))"
   ]
  },
  {
   "cell_type": "code",
   "execution_count": 35,
   "metadata": {},
   "outputs": [
    {
     "name": "stdout",
     "output_type": "stream",
     "text": [
      "DatasetDict({\n",
      "    train: Dataset({\n",
      "        features: ['url', 'text'],\n",
      "        num_rows: 4737\n",
      "    })\n",
      "})\n"
     ]
    }
   ],
   "source": [
    "dataset4 = load_dataset(\"AlekseyKorshuk/fiction-books\")\n",
    "print(dataset4)"
   ]
  },
  {
   "cell_type": "code",
   "execution_count": 37,
   "metadata": {
    "scrolled": true
   },
   "outputs": [
    {
     "name": "stdout",
     "output_type": "stream",
     "text": [
      "200\n",
      "Andrew Matthews CHASE To the one that got away \n",
      " \n",
      " \n",
      " My Lucky Day \n",
      " \n",
      "I saw her walk through the crowded hallways everyday.  The way the light glistened off her caramel skin had me star struck.  Her beautiful face astounded me as it went perfectly with her intriguing light brown eyes.  The days went by slowly and I still couldn’t muster up the courage to walk her way.  To her I was a shadow among shadows, invisible to her and so many others.  The world worked in many awkward ways I guess, because this particular day was my lucky day.  Lacy was in my algebra 2 class, and being smart actually came in handy for once.  I overheard Lacy and Mr. Tate talking he told her that she was flunking and the only way she could pass the semester is passing our upcoming exam.  This was my chance, maybe the only once in a lifetime chance you get when you find that special one. “Hey Lacy you might not know me but I’m Bret I’m in your algebra 2 class and I couldn’t help but hear about your problem.” I said “Oh so you heard. I’m terrible at this stuff I just don’t get it.”  “Well um maybe I could ugh tutor you sometime.”  “That would be great! What did you say your name was again?” “Oh I’m um Bret, Bret Johnson.  How about I pick you up say around 5:30 from your house I have brand new camaro and I just put in a new engine, been wantin to test it all week.” “Wait you have a camaro I have wanted one of those forever, I kind of love cars fixing them just about anything to do with them.”  “Wow really, me too.  So 5:30.” “Yeah see you then and thanks.” “No problem anytime.”  I watched intently as she walked away, her jeans were hugging her body tightly and she walked with such grace it could put a model to shame.  I waited impatiently for 5:30 to come but it seemed endless the clock seemed to move slower every second, then finally the time came.  I drove to her house quickly slightly over the speed limit and I arrived after about 10 minutes.  My heart pounded in my chest for the first time I could feel my blood run through my veins I reluctantly rang the doorbell . After a minute of waiting I heard the sweetest voice in the world ask from the door,  “Who is it?” “Um it’s uhh me Bret from school.” I heard the locks turn and then the door opened.  The way she looked was indescribable, it felt as if the world stood still and an angel drifted from the heavens into her place.  “Hey Bret are you ready?” I stood there absolutely speechless but then popped into my senses again “Oh yeah um sorry you look great by the way.” “Thanks.”  “Do you mind if we go somewhere else to study?  My house isn’t the best looking in the inside.” “Sure whatever makes you feel comfortable.”  “Oh but let me run across the street to get something from my friend.” She said.   “Ok go ahead.”  She walked out into the street and I could have sworn my heart skipped a beat a car driving what seemed like 10 miles over the speed limit.  I ran into the street and pushed her out of the way.  The car tried to stop but it was to late the car hit me and I blacked out.  When I came too all I saw was lacy standing over me calling the ambulance, then I blacked out again.  When I woke up again I was in the hospital lying in bed.  I looked over and saw lacy standing over me. The first thing I said was, “Are you ok?”  “yeah.” She said “But you’re not.”  “I’ll be fine as long as you’re ok.”  She looked into my eyes and leaned close and said “Thank you so much for pushing me out of the way, you could have died but you risked your life to save me and you barely even know me, why?”  “Because I really like you, I think you’re beautiful and the people you hang around don’t see as much in you that I do.” After I spoke I shocked myself I never thought any of those words would ever leave me mouth.  She stood there speechless and surprised then she began to lean closer and closer and before I knew It our lips met, we both closed our eyes as her tongue slipped passed my lips an mine hers.  After she drew back I still had my eyes closed when I opened them she smiled at me.  “You have no idea how long I’ve waited for that.” She laughed again “I will see you tomorrow they told me that’s when they can release you I will pick you up in your car.”  “Ok see you then.”  The next morning finally came, slowly but it came.  She picked me up like she said and then told me something that sent chills down my spine.  She told me her dad is a very powerful man which means he has lots of enemies and then she told me she had been feeling as though she was being followed. “Don’t worry.” I said “ I will always be watching over you and no matter what I will find you if something bad ever happens.       \n",
      " \n",
      " \n",
      " \n",
      " Abducted \n",
      " \n",
      "I wasnt sure how I was gonna do it but I knew what I had to do.  Some might ask how someone could have such a strong love for someone they barley even knew, the truth is I couldn't even answer that question if I tried.  Everyone knows the saying \"The heart wants what the heart wants\", well at that moment she was what my heart desired most and I was willing to do anything to keep her. The rest of the ride to my house was in silence, for some reason I still couldnt wrap my mind around what has happened and what was happening.  We pulled up to my houes and went upstairs to my room to talk.  \"I understand if this is to much for you to handle.\" she said with a sad worried look on her face \"What do you mean?\" I asked \"You are one of the sweetest guys i've ever met and i would hate for anything bad to happen to you because of me\" she replied tears slowly falling from her eyes. \"Nothing bad is gonna happen to me\" I said grabbing her and holding her close to comfort her.  \"I'm happy being with you and I don't want to lose you over some problems between your dad and some other men and I refuse to let you leave knowing I can't be with you.\"   \n",
      " \n",
      " \n",
      " Text: No one for any reason can copy anything from this book unless they have recieved permission from the author All rights reserved. Publication Date: December 11th 2011 https://www.bookrix.com/-stylzsanders95\n"
     ]
    }
   ],
   "source": [
    "length = len(dataset4['train']['text'])\n",
    "data_l = dataset4['train']['text']\n",
    "random_numbers = np.random.randint(0, length + 1, 200)\n",
    "abstract_list = []\n",
    "for i in range(200):\n",
    "    idx = random_numbers[i]\n",
    "    abstract_list.append(data_l[idx])\n",
    "print(len(abstract_list))\n",
    "print(abstract_list[0])"
   ]
  },
  {
   "cell_type": "code",
   "execution_count": 38,
   "metadata": {},
   "outputs": [
    {
     "name": "stdout",
     "output_type": "stream",
     "text": [
      "0.8253606847127992\n"
     ]
    }
   ],
   "source": [
    "WSIZE = 1024\n",
    "accs = []\n",
    "for i in range(200):\n",
    "    astring = abstract_list[i]\n",
    "    plain = preprocess_str(astring)[:WSIZE]\n",
    "    ciphertext = Subst_cipher().encrypt(plain)\n",
    "    ''.join(ciphertext)\n",
    "    ciphertext_batch = torch.tensor([freq_encoder(my_tokenizer.encode(ciphertext))], dtype=torch.long).to(device)\n",
    "    # ciphertext_batch = torch.tensor([my_tokenizer.encode(ciphertext)], dtype=torch.long).to(device)\n",
    "    logits, activations = my_model(ciphertext_batch)\n",
    "    plain_pred = logitsToStr(my_tokenizer, logits)\n",
    "    acc = character_accuracy(plain, plain_pred)\n",
    "    accs.append(acc)\n",
    "print(np.mean(accs))"
   ]
  }
 ],
 "metadata": {
  "kernelspec": {
   "display_name": "llava",
   "language": "python",
   "name": "llava"
  },
  "language_info": {
   "codemirror_mode": {
    "name": "ipython",
    "version": 3
   },
   "file_extension": ".py",
   "mimetype": "text/x-python",
   "name": "python",
   "nbconvert_exporter": "python",
   "pygments_lexer": "ipython3",
   "version": "3.10.14"
  }
 },
 "nbformat": 4,
 "nbformat_minor": 2
}
