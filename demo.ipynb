{
 "cells": [
  {
   "cell_type": "code",
   "execution_count": 135,
   "metadata": {},
   "outputs": [
    {
     "name": "stdout",
     "output_type": "stream",
     "text": [
      "0\n"
     ]
    }
   ],
   "source": [
    "import torch\n",
    "from model import Encoder, CharTokenizer\n",
    "from trainer import train\n",
    "from data import get_datasets\n",
    "import matplotlib.pyplot as plt\n",
    "\n",
    "if torch.cuda.is_available():\n",
    "    device = torch.cuda.current_device()\n",
    "else:\n",
    "    device = 'cpu'\n",
    "\n",
    "print(device)"
   ]
  },
  {
   "cell_type": "code",
   "execution_count": 2,
   "metadata": {},
   "outputs": [
    {
     "name": "stdout",
     "output_type": "stream",
     "text": [
      "Loading preprocessed train data...\n"
     ]
    }
   ],
   "source": [
    "train_dataset, test_dataset = get_datasets()"
   ]
  },
  {
   "cell_type": "code",
   "execution_count": 41,
   "metadata": {},
   "outputs": [
    {
     "name": "stdout",
     "output_type": "stream",
     "text": [
      "model_WSIZE_1024_20240423_2022.pt\t model_WSIZE_256_woCNN_20240429_1304.pt\r\n",
      "model_WSIZE_1024_noise_20240425_1333.pt  model_WSIZE_512_20240423_2022.pt\r\n",
      "model_WSIZE_1024_raw_20240429_1200.pt\t model_WSIZE_512_noise_20240425_1333.pt\r\n",
      "model_WSIZE_128_20240423_1651.pt\t model_WSIZE_512_raw_20240429_1200.pt\r\n",
      "model_WSIZE_128_20240423_2022.pt\t model_WSIZE_512_woCNN_20240429_1303.pt\r\n",
      "model_WSIZE_128_noise_20240425_1333.pt\t model_WSIZE_64_20240423_1651.pt\r\n",
      "model_WSIZE_128_raw_20240429_1200.pt\t model_WSIZE_64_20240423_2007.pt\r\n",
      "model_WSIZE_128_woCNN_20240429_1304.pt\t model_WSIZE_64_20240423_2022.pt\r\n",
      "model_WSIZE_256_20240423_1649.pt\t model_WSIZE_64_noise_20240425_1333.pt\r\n",
      "model_WSIZE_256_20240423_2022.pt\t model_WSIZE_64_raw_20240429_1200.pt\r\n",
      "model_WSIZE_256_noise_20240425_1333.pt\t model_WSIZE_64_woCNN_20240429_1303.pt\r\n",
      "model_WSIZE_256_raw_20240429_1200.pt\r\n"
     ]
    }
   ],
   "source": [
    "!ls ckpts/"
   ]
  },
  {
   "cell_type": "code",
   "execution_count": 57,
   "metadata": {},
   "outputs": [
    {
     "data": {
      "text/plain": [
       "Encoder(\n",
       "  (word_embedding): Embedding(38, 256)\n",
       "  (pos_embedding): Embedding(512, 256)\n",
       "  (blocks): ModuleList(\n",
       "    (0): TransformerBlock(\n",
       "      (cnn): CharCNN(\n",
       "        (c3): Conv1d(256, 256, kernel_size=(3,), stride=(1,), padding=(1,))\n",
       "        (c5): Conv1d(256, 256, kernel_size=(5,), stride=(1,), padding=(2,))\n",
       "        (c7): Conv1d(256, 256, kernel_size=(7,), stride=(1,), padding=(3,))\n",
       "        (c9): Conv1d(256, 256, kernel_size=(9,), stride=(1,), padding=(4,))\n",
       "        (c11): Conv1d(256, 256, kernel_size=(11,), stride=(1,), padding=(5,))\n",
       "        (c3sep): Conv1d(256, 256, kernel_size=(1,), stride=(1,))\n",
       "        (c5sep): Conv1d(256, 256, kernel_size=(1,), stride=(1,))\n",
       "        (c7sep): Conv1d(256, 256, kernel_size=(1,), stride=(1,))\n",
       "        (c9sep): Conv1d(256, 256, kernel_size=(1,), stride=(1,))\n",
       "        (c11sep): Conv1d(256, 256, kernel_size=(1,), stride=(1,))\n",
       "        (c3_prime): Conv1d(1280, 256, kernel_size=(3,), stride=(1,), padding=(1,))\n",
       "        (leakyrelu1): LeakyReLU(negative_slope=0.01, inplace=True)\n",
       "        (leakyrelu2): LeakyReLU(negative_slope=0.01, inplace=True)\n",
       "        (leakyrelu3): LeakyReLU(negative_slope=0.01, inplace=True)\n",
       "        (leakyrelu4): LeakyReLU(negative_slope=0.01, inplace=True)\n",
       "        (leakyrelu5): LeakyReLU(negative_slope=0.01, inplace=True)\n",
       "        (leakyrelu6): LeakyReLU(negative_slope=0.01, inplace=True)\n",
       "        (conv_layer_norm): LayerNorm((256,), eps=1e-05, elementwise_affine=True)\n",
       "      )\n",
       "      (ln_1): LayerNorm((256,), eps=1e-05, elementwise_affine=True)\n",
       "      (attn): SelfAttention(\n",
       "        (attn): MultiheadAttention(\n",
       "          (out_proj): _LinearWithBias(in_features=256, out_features=256, bias=True)\n",
       "        )\n",
       "      )\n",
       "      (dropout1): Dropout(p=0.0, inplace=False)\n",
       "      (ln_2): LayerNorm((256,), eps=1e-05, elementwise_affine=True)\n",
       "      (mlp): Sequential(\n",
       "        (0): Linear(in_features=256, out_features=1024, bias=True)\n",
       "        (1): GELU()\n",
       "        (2): Dropout(p=0.0, inplace=False)\n",
       "        (3): Linear(in_features=1024, out_features=256, bias=True)\n",
       "      )\n",
       "      (dropout2): Dropout(p=0.0, inplace=False)\n",
       "    )\n",
       "    (1): TransformerBlock(\n",
       "      (cnn): CharCNN(\n",
       "        (c3): Conv1d(256, 256, kernel_size=(3,), stride=(1,), padding=(1,))\n",
       "        (c5): Conv1d(256, 256, kernel_size=(5,), stride=(1,), padding=(2,))\n",
       "        (c7): Conv1d(256, 256, kernel_size=(7,), stride=(1,), padding=(3,))\n",
       "        (c9): Conv1d(256, 256, kernel_size=(9,), stride=(1,), padding=(4,))\n",
       "        (c11): Conv1d(256, 256, kernel_size=(11,), stride=(1,), padding=(5,))\n",
       "        (c3sep): Conv1d(256, 256, kernel_size=(1,), stride=(1,))\n",
       "        (c5sep): Conv1d(256, 256, kernel_size=(1,), stride=(1,))\n",
       "        (c7sep): Conv1d(256, 256, kernel_size=(1,), stride=(1,))\n",
       "        (c9sep): Conv1d(256, 256, kernel_size=(1,), stride=(1,))\n",
       "        (c11sep): Conv1d(256, 256, kernel_size=(1,), stride=(1,))\n",
       "        (c3_prime): Conv1d(1280, 256, kernel_size=(3,), stride=(1,), padding=(1,))\n",
       "        (leakyrelu1): LeakyReLU(negative_slope=0.01, inplace=True)\n",
       "        (leakyrelu2): LeakyReLU(negative_slope=0.01, inplace=True)\n",
       "        (leakyrelu3): LeakyReLU(negative_slope=0.01, inplace=True)\n",
       "        (leakyrelu4): LeakyReLU(negative_slope=0.01, inplace=True)\n",
       "        (leakyrelu5): LeakyReLU(negative_slope=0.01, inplace=True)\n",
       "        (leakyrelu6): LeakyReLU(negative_slope=0.01, inplace=True)\n",
       "        (conv_layer_norm): LayerNorm((256,), eps=1e-05, elementwise_affine=True)\n",
       "      )\n",
       "      (ln_1): LayerNorm((256,), eps=1e-05, elementwise_affine=True)\n",
       "      (attn): SelfAttention(\n",
       "        (attn): MultiheadAttention(\n",
       "          (out_proj): _LinearWithBias(in_features=256, out_features=256, bias=True)\n",
       "        )\n",
       "      )\n",
       "      (dropout1): Dropout(p=0.0, inplace=False)\n",
       "      (ln_2): LayerNorm((256,), eps=1e-05, elementwise_affine=True)\n",
       "      (mlp): Sequential(\n",
       "        (0): Linear(in_features=256, out_features=1024, bias=True)\n",
       "        (1): GELU()\n",
       "        (2): Dropout(p=0.0, inplace=False)\n",
       "        (3): Linear(in_features=1024, out_features=256, bias=True)\n",
       "      )\n",
       "      (dropout2): Dropout(p=0.0, inplace=False)\n",
       "    )\n",
       "    (2): TransformerBlock(\n",
       "      (cnn): CharCNN(\n",
       "        (c3): Conv1d(256, 256, kernel_size=(3,), stride=(1,), padding=(1,))\n",
       "        (c5): Conv1d(256, 256, kernel_size=(5,), stride=(1,), padding=(2,))\n",
       "        (c7): Conv1d(256, 256, kernel_size=(7,), stride=(1,), padding=(3,))\n",
       "        (c9): Conv1d(256, 256, kernel_size=(9,), stride=(1,), padding=(4,))\n",
       "        (c11): Conv1d(256, 256, kernel_size=(11,), stride=(1,), padding=(5,))\n",
       "        (c3sep): Conv1d(256, 256, kernel_size=(1,), stride=(1,))\n",
       "        (c5sep): Conv1d(256, 256, kernel_size=(1,), stride=(1,))\n",
       "        (c7sep): Conv1d(256, 256, kernel_size=(1,), stride=(1,))\n",
       "        (c9sep): Conv1d(256, 256, kernel_size=(1,), stride=(1,))\n",
       "        (c11sep): Conv1d(256, 256, kernel_size=(1,), stride=(1,))\n",
       "        (c3_prime): Conv1d(1280, 256, kernel_size=(3,), stride=(1,), padding=(1,))\n",
       "        (leakyrelu1): LeakyReLU(negative_slope=0.01, inplace=True)\n",
       "        (leakyrelu2): LeakyReLU(negative_slope=0.01, inplace=True)\n",
       "        (leakyrelu3): LeakyReLU(negative_slope=0.01, inplace=True)\n",
       "        (leakyrelu4): LeakyReLU(negative_slope=0.01, inplace=True)\n",
       "        (leakyrelu5): LeakyReLU(negative_slope=0.01, inplace=True)\n",
       "        (leakyrelu6): LeakyReLU(negative_slope=0.01, inplace=True)\n",
       "        (conv_layer_norm): LayerNorm((256,), eps=1e-05, elementwise_affine=True)\n",
       "      )\n",
       "      (ln_1): LayerNorm((256,), eps=1e-05, elementwise_affine=True)\n",
       "      (attn): SelfAttention(\n",
       "        (attn): MultiheadAttention(\n",
       "          (out_proj): _LinearWithBias(in_features=256, out_features=256, bias=True)\n",
       "        )\n",
       "      )\n",
       "      (dropout1): Dropout(p=0.0, inplace=False)\n",
       "      (ln_2): LayerNorm((256,), eps=1e-05, elementwise_affine=True)\n",
       "      (mlp): Sequential(\n",
       "        (0): Linear(in_features=256, out_features=1024, bias=True)\n",
       "        (1): GELU()\n",
       "        (2): Dropout(p=0.0, inplace=False)\n",
       "        (3): Linear(in_features=1024, out_features=256, bias=True)\n",
       "      )\n",
       "      (dropout2): Dropout(p=0.0, inplace=False)\n",
       "    )\n",
       "    (3): TransformerBlock(\n",
       "      (cnn): CharCNN(\n",
       "        (c3): Conv1d(256, 256, kernel_size=(3,), stride=(1,), padding=(1,))\n",
       "        (c5): Conv1d(256, 256, kernel_size=(5,), stride=(1,), padding=(2,))\n",
       "        (c7): Conv1d(256, 256, kernel_size=(7,), stride=(1,), padding=(3,))\n",
       "        (c9): Conv1d(256, 256, kernel_size=(9,), stride=(1,), padding=(4,))\n",
       "        (c11): Conv1d(256, 256, kernel_size=(11,), stride=(1,), padding=(5,))\n",
       "        (c3sep): Conv1d(256, 256, kernel_size=(1,), stride=(1,))\n",
       "        (c5sep): Conv1d(256, 256, kernel_size=(1,), stride=(1,))\n",
       "        (c7sep): Conv1d(256, 256, kernel_size=(1,), stride=(1,))\n",
       "        (c9sep): Conv1d(256, 256, kernel_size=(1,), stride=(1,))\n",
       "        (c11sep): Conv1d(256, 256, kernel_size=(1,), stride=(1,))\n",
       "        (c3_prime): Conv1d(1280, 256, kernel_size=(3,), stride=(1,), padding=(1,))\n",
       "        (leakyrelu1): LeakyReLU(negative_slope=0.01, inplace=True)\n",
       "        (leakyrelu2): LeakyReLU(negative_slope=0.01, inplace=True)\n",
       "        (leakyrelu3): LeakyReLU(negative_slope=0.01, inplace=True)\n",
       "        (leakyrelu4): LeakyReLU(negative_slope=0.01, inplace=True)\n",
       "        (leakyrelu5): LeakyReLU(negative_slope=0.01, inplace=True)\n",
       "        (leakyrelu6): LeakyReLU(negative_slope=0.01, inplace=True)\n",
       "        (conv_layer_norm): LayerNorm((256,), eps=1e-05, elementwise_affine=True)\n",
       "      )\n",
       "      (ln_1): LayerNorm((256,), eps=1e-05, elementwise_affine=True)\n",
       "      (attn): SelfAttention(\n",
       "        (attn): MultiheadAttention(\n",
       "          (out_proj): _LinearWithBias(in_features=256, out_features=256, bias=True)\n",
       "        )\n",
       "      )\n",
       "      (dropout1): Dropout(p=0.0, inplace=False)\n",
       "      (ln_2): LayerNorm((256,), eps=1e-05, elementwise_affine=True)\n",
       "      (mlp): Sequential(\n",
       "        (0): Linear(in_features=256, out_features=1024, bias=True)\n",
       "        (1): GELU()\n",
       "        (2): Dropout(p=0.0, inplace=False)\n",
       "        (3): Linear(in_features=1024, out_features=256, bias=True)\n",
       "      )\n",
       "      (dropout2): Dropout(p=0.0, inplace=False)\n",
       "    )\n",
       "  )\n",
       "  (output): Linear(in_features=256, out_features=38, bias=True)\n",
       ")"
      ]
     },
     "execution_count": 57,
     "metadata": {},
     "output_type": "execute_result"
    }
   ],
   "source": [
    "my_tokenizer = CharTokenizer()\n",
    "\n",
    "WSIZE = 512\n",
    "\n",
    "my_model = Encoder(WSIZE, 37+1, 256, num_blocks=4, n_heads=8, dropout=0.0, all_activations=True) # window_size, vocab_size, embed_size\n",
    "\n",
    "my_model.load_state_dict(torch.load(\"./ckpts/model_WSIZE_512_20240423_2022.pt\"))\n",
    "\n",
    "my_model.to(device)\n",
    "\n",
    "# optimizer = torch.optim.Adam(my_model.parameters(), weight_decay=0.001)\n",
    "# loss_func = torch.nn.CrossEntropyLoss()\n",
    "\n",
    "# train(my_model, train_dataset, optimizer, loss_func, my_tokenizer, batch_size=16, n_epochs=10, device=device, mask_ratio=0.0)"
   ]
  },
  {
   "cell_type": "code",
   "execution_count": 162,
   "metadata": {},
   "outputs": [],
   "source": [
    "from utils import Subst_cipher, unigram_freq_decipher, CHAR_SPACE\n",
    "from data import preprocess_str\n",
    "from model import freq_encoder\n",
    "from metrics import character_accuracy\n",
    "\n",
    "\n",
    "def logitsToStr(tokenizer, logits):\n",
    "    return ''.join(tokenizer.decode([int(i) for i in logits.argmax(-1)[0].cpu()]))\n",
    "\n",
    "\n",
    "astring = \"\"\"The Small Innovative Missions for Planetary Exploration (\"SIMPLEx\") program was intended as a program to select small, low-cost space missions to fly as secondary payloads on other NASA missions. As a ride-along mission on another launch, not a main mission, they were intended to have low cost and tolerate a higher level of risk than other NASA missions.\n",
    "\n",
    "EscaPADE was originally selected from a competition to be a low-cost ride-along \"mission of opportunity\" to hitch a ride to Mars with the Psyche spacecraft, and drop off as the spacecraft made a fly-by of Mars. Thus, it had an anticipated launch cost of nearly nothing. However, the launch of the Psyche mission was delayed, which meant that when Psyche passes the orbit of Mars, Mars is no longer near the trajectory of Psyche. Rather than cancel the mission, NASA announced that it would go on a different launch vehicle, and requested bids from industry for the launch.\n",
    "\n",
    "In February 2023, Blue Origin won the contract to launch the mission on the first flight of the New Glenn launch vehicle in September 2024, at a cost of ~$20 million.\n",
    "\"\"\"\n",
    "\n",
    "plain = preprocess_str(astring)[:WSIZE]"
   ]
  },
  {
   "cell_type": "code",
   "execution_count": 163,
   "metadata": {},
   "outputs": [
    {
     "data": {
      "text/plain": [
       "512"
      ]
     },
     "execution_count": 163,
     "metadata": {},
     "output_type": "execute_result"
    }
   ],
   "source": [
    "plain.__len__()"
   ]
  },
  {
   "cell_type": "code",
   "execution_count": 164,
   "metadata": {},
   "outputs": [
    {
     "data": {
      "text/plain": [
       "'ad1 qk6ss 3nn5p6a3p1 k3qq35nq 457 9s6n1a67c 1y9s576a35n q3k9s1y 975876k i6q 3na1nt1t 6q 6 975876k a5 q1s1ja qk6ss s5ij5qa q96j1 k3qq35nq a5 4sc 6q q1j5nt67c 96cs56tq 5n 5ad17 n6q6 k3qq35nq 6q 6 73t16s5n8 k3qq35n 5n 6n5ad17 s6znjd n5a 6 k63n k3qq35n ad1c i171 3na1nt1t a5 d6p1 s5i j5qa 6nt a5s176a1 6 d38d17 s1p1s 54 73qm ad6n 5ad17 n6q6 k3qq35nq1qj696t1 i6q 57383n6ssc q1s1ja1t 475k 6 j5k91a3a35n a5 x1 6 s5ij5qa 73t16s5n8 k3qq35n 54 59957azn3ac a5 d3ajd 6 73t1 a5 k67q i3ad ad1 9qcjd1 q96j1j764a 6nt t759 544 6q'"
      ]
     },
     "execution_count": 164,
     "metadata": {},
     "output_type": "execute_result"
    }
   ],
   "source": [
    "ciphertext = Subst_cipher().encrypt(plain)\n",
    "''.join(ciphertext)"
   ]
  },
  {
   "cell_type": "code",
   "execution_count": 165,
   "metadata": {},
   "outputs": [],
   "source": [
    "ciphertext_batch = torch.tensor([freq_encoder(my_tokenizer.encode(ciphertext))], dtype=torch.long).to(device)\n",
    "# ciphertext_batch = torch.tensor([my_tokenizer.encode(ciphertext)], dtype=torch.long).to(device)\n",
    "logits, activations = my_model(ciphertext_batch)"
   ]
  },
  {
   "cell_type": "code",
   "execution_count": 166,
   "metadata": {},
   "outputs": [
    {
     "data": {
      "text/plain": [
       "'the smarr innovative missions for pranetary exproration simprex program was intended as a program to serept smarr rowpost spape missions to fly as sepondary pagroads on other nasa missions as a ridearong mission on another raunph not a main mission they were intended to have row post and torerate a higher rever of risk than other nasa missionsespapade was originarly serepted from a pompetition to je a rowpost ridearong mission of opportunity to hitph a ride to mars with the psgphe spapepraft and drop off as'"
      ]
     },
     "execution_count": 166,
     "metadata": {},
     "output_type": "execute_result"
    }
   ],
   "source": [
    "plain_pred = logitsToStr(my_tokenizer, logits)\n",
    "plain_pred"
   ]
  },
  {
   "cell_type": "code",
   "execution_count": 167,
   "metadata": {},
   "outputs": [
    {
     "data": {
      "text/plain": [
       "'the small innovative missions for planetary exploration simplex program was intended as a program to select small lowcost space missions to fly as secondary payloads on other nasa missions as a ridealong mission on another launch not a main mission they were intended to have low cost and tolerate a higher level of risk than other nasa missionsescapade was originally selected from a competition to be a lowcost ridealong mission of opportunity to hitch a ride to mars with the psyche spacecraft and drop off as'"
      ]
     },
     "execution_count": 167,
     "metadata": {},
     "output_type": "execute_result"
    }
   ],
   "source": [
    "plain"
   ]
  },
  {
   "cell_type": "code",
   "execution_count": 168,
   "metadata": {},
   "outputs": [
    {
     "data": {
      "text/plain": [
       "0.927734375"
      ]
     },
     "execution_count": 168,
     "metadata": {},
     "output_type": "execute_result"
    }
   ],
   "source": [
    "character_accuracy(plain, plain_pred)"
   ]
  },
  {
   "cell_type": "code",
   "execution_count": 227,
   "metadata": {},
   "outputs": [],
   "source": [
    "import difflib\n",
    "\n",
    "def char_level_html_diff(text1, text2):\n",
    "    assert len(text1) == len(text2), \"Strings must be of the same length\"\n",
    "\n",
    "    result = []\n",
    "    for char1, char2 in zip(text1, text2):\n",
    "        if char1 == char2:\n",
    "            result.append(f\"<span>{char1}</span>\")\n",
    "        else:\n",
    "            result.append(f\"<span style='background-color: #EF9A9A;'>{char2}</span>\")\n",
    "    return \"\".join(result)\n",
    "\n",
    "diff_html = char_level_html_diff(plain, plain_pred)\n",
    "with open('diff.html', 'w') as f:\n",
    "    f.write(diff_html)"
   ]
  },
  {
   "cell_type": "code",
   "execution_count": 170,
   "metadata": {},
   "outputs": [
    {
     "data": {
      "text/plain": [
       "'odi althh nrrebtonbi lnaanera fes chtriotsg iychestoner anlchiy csewstl pta nroirmim ta t csewstl oe aihiuo althh hepueao actui lnaanera oe fhg ta aiuermtsg ctghetma er eodis rtat lnaanera ta t snmitherw lnaaner er treodis htvrud reo t ltnr lnaaner odig pisi nroirmim oe dtbi hep ueao trm oehistoi t dnwdis hibih ef snak odtr eodis rtat lnaaneraiautctmi pta esnwnrthhg aihiuoim fsel t uelciononer oe 1i t hepueao snmitherw lnaaner ef eccesovrnog oe dnoud t snmi oe ltsa pnod odi cagudi actuiustfo trm msec eff ta'"
      ]
     },
     "execution_count": 170,
     "metadata": {},
     "output_type": "execute_result"
    }
   ],
   "source": [
    "from utils import unigram_freq_decipher\n",
    "\n",
    "unigram_freq_decipher(ciphertext)"
   ]
  },
  {
   "cell_type": "code",
   "execution_count": 172,
   "metadata": {},
   "outputs": [
    {
     "data": {
      "text/plain": [
       "0.18359375"
      ]
     },
     "execution_count": 172,
     "metadata": {},
     "output_type": "execute_result"
    }
   ],
   "source": [
    "character_accuracy(plain, unigram_freq_decipher(ciphertext))"
   ]
  },
  {
   "cell_type": "code",
   "execution_count": 173,
   "metadata": {},
   "outputs": [
    {
     "data": {
      "text/plain": [
       "torch.Size([1, 512, 256])"
      ]
     },
     "execution_count": 173,
     "metadata": {},
     "output_type": "execute_result"
    }
   ],
   "source": [
    "activations[0].shape"
   ]
  },
  {
   "cell_type": "code",
   "execution_count": 174,
   "metadata": {},
   "outputs": [
    {
     "data": {
      "text/plain": [
       "'the smarr innovative missions for pranetary exproration simprex program was intended as a program to serept smarr rowpost spape missions to fly as sepondary pagroads on other nasa missions as a ridearong mission on another raunph not a main mission they were intended to have row post and torerate a higher rever of risk than other nasa missionsespapade was originarly serepted from a pompetition to je a rowpost ridearong mission of opportunity to hitph a ride to mars with the psgphe spapepraft and drop off as'"
      ]
     },
     "execution_count": 174,
     "metadata": {},
     "output_type": "execute_result"
    }
   ],
   "source": [
    "logitsToStr(my_tokenizer, my_model.output(activations[4].to(device)))"
   ]
  },
  {
   "cell_type": "code",
   "execution_count": 208,
   "metadata": {},
   "outputs": [
    {
     "data": {
      "image/png": "[encoded data removed]",
      "text/plain": [
       "<Figure size 1600x1200 with 1 Axes>"
      ]
     },
     "metadata": {
      "needs_background": "light"
     },
     "output_type": "display_data"
    }
   ],
   "source": [
    "POSIDX=9\n",
    "\n",
    "plt.figure(figsize=(8,6), dpi=200)\n",
    "\n",
    "for i in range(4,-1,-1):\n",
    "    plt.bar(CHAR_SPACE, torch.softmax(my_model.output(activations[i].to(device)).detach().cpu()[0][POSIDX][:len(CHAR_SPACE)], -1), label=f\"Layer {i}\", alpha=0.4)\n",
    "\n",
    "plt.legend()\n",
    "plt.show()"
   ]
  },
  {
   "cell_type": "code",
   "execution_count": 226,
   "metadata": {},
   "outputs": [
    {
     "data": {
      "image/png": "[encoded data removed]",
      "text/plain": [
       "<Figure size 1600x600 with 1 Axes>"
      ]
     },
     "metadata": {
      "needs_background": "light"
     },
     "output_type": "display_data"
    }
   ],
   "source": [
    "POSIDX=10\n",
    "\n",
    "plt.figure(figsize=(8,3), dpi=200)\n",
    "\n",
    "for i in range(4,-1,-1):\n",
    "    plt.bar(CHAR_SPACE, torch.softmax(my_model.output(activations[i].to(device)).detach().cpu()[0][POSIDX][:len(CHAR_SPACE)], -1), label=f\"Layer {i}\", alpha=0.4)\n",
    "\n",
    "plt.legend()\n",
    "plt.show()"
   ]
  }
 ],
 "metadata": {
  "kernelspec": {
   "display_name": "othello",
   "language": "python",
   "name": "othello"
  },
  "language_info": {
   "codemirror_mode": {
    "name": "ipython",
    "version": 3
   },
   "file_extension": ".py",
   "mimetype": "text/x-python",
   "name": "python",
   "nbconvert_exporter": "python",
   "pygments_lexer": "ipython3",
   "version": "3.8.8"
  }
 },
 "nbformat": 4,
 "nbformat_minor": 2
}
