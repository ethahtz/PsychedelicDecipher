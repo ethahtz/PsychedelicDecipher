{
 "cells": [
  {
   "cell_type": "code",
   "execution_count": 1,
   "metadata": {},
   "outputs": [
    {
     "name": "stdout",
     "output_type": "stream",
     "text": [
      "0\n"
     ]
    }
   ],
   "source": [
    "import torch\n",
    "from model import Encoder, CharTokenizer\n",
    "from trainer import train\n",
    "from data import get_datasets\n",
    "\n",
    "if torch.cuda.is_available():\n",
    "    device = torch.cuda.current_device()\n",
    "else:\n",
    "    device = 'cpu'\n",
    "\n",
    "print(device)"
   ]
  },
  {
   "cell_type": "code",
   "execution_count": 2,
   "metadata": {},
   "outputs": [
    {
     "name": "stdout",
     "output_type": "stream",
     "text": [
      "Loading preprocessed train data...\n"
     ]
    }
   ],
   "source": [
    "train_dataset, test_dataset = get_datasets()"
   ]
  },
  {
   "cell_type": "code",
   "execution_count": null,
   "metadata": {},
   "outputs": [
    {
     "name": "stdout",
     "output_type": "stream",
     "text": [
      "epoch:  0\n"
     ]
    },
    {
     "name": "stderr",
     "output_type": "stream",
     "text": [
      "Epoch 0:   3%|▎         | 259/10000 [02:25<1:31:58,  1.77iters/s, accuracy=0.565, loss=0.0819]"
     ]
    }
   ],
   "source": [
    "my_tokenizer = CharTokenizer()\n",
    "my_model = Encoder(1024, 37+1, 256, num_blocks=4, n_heads=8, dropout=0.2) # window_size, vocab_size, embed_size\n",
    "my_model.to(device)\n",
    "\n",
    "optimizer = torch.optim.Adam(my_model.parameters(), weight_decay=0.001)\n",
    "loss_func = torch.nn.CrossEntropyLoss()\n",
    "\n",
    "train(my_model, train_dataset, optimizer, loss_func, my_tokenizer, batch_size=16, n_epochs=10, device=device)"
   ]
  }
 ],
 "metadata": {
  "kernelspec": {
   "display_name": "othello",
   "language": "python",
   "name": "othello"
  },
  "language_info": {
   "codemirror_mode": {
    "name": "ipython",
    "version": 3
   },
   "file_extension": ".py",
   "mimetype": "text/x-python",
   "name": "python",
   "nbconvert_exporter": "python",
   "pygments_lexer": "ipython3",
   "version": "3.8.8"
  }
 },
 "nbformat": 4,
 "nbformat_minor": 2
}
